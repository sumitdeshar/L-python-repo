{
 "cells": [
  {
   "cell_type": "code",
   "execution_count": 3,
   "metadata": {},
   "outputs": [
    {
     "data": {
      "text/plain": [
       "array([ 7, 14, 21, 28, 35])"
      ]
     },
     "execution_count": 3,
     "metadata": {},
     "output_type": "execute_result"
    }
   ],
   "source": [
    "import numpy as np \n",
    "array1 = np.array([7,14,21,28,35])\n",
    "array1\n"
   ]
  },
  {
   "cell_type": "code",
   "execution_count": 5,
   "metadata": {},
   "outputs": [
    {
     "data": {
      "text/plain": [
       "array([['1', '2', '3'],\n",
       "       ['4', '5', '6'],\n",
       "       ['7', '8', '9']], dtype='<U1')"
      ]
     },
     "execution_count": 5,
     "metadata": {},
     "output_type": "execute_result"
    }
   ],
   "source": [
    "array2 = np.array([[1,2,3],[4,5,6],[7,8,9]], dtype = str)\n",
    "array2\n"
   ]
  },
  {
   "cell_type": "markdown",
   "metadata": {},
   "source": [
    "bool*: Boolean\n",
    "int*: default integer type\n",
    "intc: Same as that of ‘C’\n"
   ]
  },
  {
   "cell_type": "markdown",
   "metadata": {},
   "source": [
    "int8,int16,int32,int64\n",
    "uint8,uint16..,uint64\n",
    "int8 can store -2^7 to 2^7 = -127 to 127 singed\n",
    "uint8 can store 0 to 2^0 =0 to 256 unsinged\n"
   ]
  },
  {
   "cell_type": "markdown",
   "metadata": {},
   "source": [
    "float\\_\n",
    "float16: It has 10 bit mantissa\n",
    "float32: It has 23 bit mantissa\n",
    "flaot64: It has 52 bit mantissa\n"
   ]
  },
  {
   "cell_type": "markdown",
   "metadata": {},
   "source": [
    "complex\\_\n",
    "complex64\n",
    "complex128\n"
   ]
  },
  {
   "cell_type": "markdown",
   "metadata": {},
   "source": [
    "Numpy function:\n",
    "FUNCTIONS FOR GENERATING SEQUENCES\n"
   ]
  },
  {
   "cell_type": "markdown",
   "metadata": {},
   "source": [
    "arange()\n"
   ]
  },
  {
   "cell_type": "markdown",
   "metadata": {},
   "source": [
    "syntax:\n",
    "numpy.arange(start, stop, step, dtype)\n",
    "Start: The starting value of the sequence\n",
    "Stop: The value up to which the sequence is generated (not inducing the value itself)\n",
    "Step: The difference between the consecutive values\n",
    "dtype: The data type\n"
   ]
  },
  {
   "cell_type": "code",
   "execution_count": 8,
   "metadata": {},
   "outputs": [
    {
     "data": {
      "text/plain": [
       "array([ 3,  6,  9, 12, 15, 18, 21, 24, 27, 30])"
      ]
     },
     "execution_count": 8,
     "metadata": {},
     "output_type": "execute_result"
    }
   ],
   "source": [
    "a = np.arange(3,31,3, int)\n",
    "a\n"
   ]
  },
  {
   "cell_type": "code",
   "execution_count": 13,
   "metadata": {},
   "outputs": [
    {
     "data": {
      "text/plain": [
       "array([0., 1., 2., 3., 4., 5., 6.])"
      ]
     },
     "execution_count": 13,
     "metadata": {},
     "output_type": "execute_result"
    }
   ],
   "source": [
    "b = np.arange(7, dtype=float)\n",
    "b\n"
   ]
  },
  {
   "cell_type": "markdown",
   "metadata": {},
   "source": [
    "linespace()\n"
   ]
  },
  {
   "cell_type": "markdown",
   "metadata": {},
   "source": [
    "start: The first value of the sequence\n",
    "\n",
    "stop: The last value (included until endpoint = False)\n",
    "\n",
    "num: The number of items\n",
    "\n",
    "endpoint: If endpoint is False then the “stop” (meaning lastor end limit or boundary) value is not included in the sequence\n",
    "\n",
    "retstep: If this is True, the step size is returned (the gap/interval value)\n",
    "\n",
    "dtype: The data type of the elements of the sequence; if not specified\n",
    "then the data type is inferred by the start and the stop values\n"
   ]
  },
  {
   "cell_type": "code",
   "execution_count": 15,
   "metadata": {},
   "outputs": [
    {
     "data": {
      "text/plain": [
       "array([ 11. ,  32.6,  54.2,  75.8,  97.4, 119. , 140.6, 162.2, 183.8,\n",
       "       205.4, 227. ])"
      ]
     },
     "execution_count": 15,
     "metadata": {},
     "output_type": "execute_result"
    }
   ],
   "source": [
    "c = np.linspace(11,227,11)\n",
    "c\n"
   ]
  },
  {
   "cell_type": "code",
   "execution_count": 18,
   "metadata": {},
   "outputs": [
    {
     "data": {
      "text/plain": [
       "(array([ 11.        ,  30.63636364,  50.27272727,  69.90909091,\n",
       "         89.54545455, 109.18181818, 128.81818182, 148.45454545,\n",
       "        168.09090909, 187.72727273, 207.36363636]),\n",
       " 19.636363636363637)"
      ]
     },
     "execution_count": 18,
     "metadata": {},
     "output_type": "execute_result"
    }
   ],
   "source": [
    "d =np.linspace(11,227,11, endpoint= False, retstep= True)\n",
    "d\n"
   ]
  },
  {
   "cell_type": "markdown",
   "metadata": {},
   "source": [
    "logspace()\n"
   ]
  },
  {
   "cell_type": "markdown",
   "metadata": {},
   "source": [
    "It similarly generated the sequence but using log\n",
    "default base is 10\n",
    "logspace (start, stop, num, endpoint, base, dtype)\n"
   ]
  },
  {
   "cell_type": "markdown",
   "metadata": {},
   "source": [
    "AGGREGATE FUNCTIONS\n"
   ]
  },
  {
   "cell_type": "markdown",
   "metadata": {},
   "source": [
    "numpy.sum This finds the sum of the elements of the argument (e.g. a\n",
    "list or an array)\n",
    "\n",
    "numpy.prod This finds the product of the elements of the argument\n",
    "(e.g. a list or an array)\n",
    "\n",
    "numpy.mean This finds the mean of the elements of the argument (e.g.\n",
    "a list or an array)\n",
    "\n",
    "numpy.std This finds the standard deviation of the elements of the\n",
    "argument\n",
    "\n",
    "numpy.var This finds the variance of the elements of the argument\n",
    "\n",
    "numpy.max This finds the maximum element of the argument. In the\n",
    "case of a list or a 1D array, the maximum element will be displayed.\n",
    "However, in the case of a 2D array the axis along which the maximum\n",
    "element is desired can also be mentioned. Here, axis=0 indicates col\n",
    "umns and axis=1 indicates rows.\n",
    "\n",
    "numpy.min This finds the minimum element of the argument. In the\n",
    "case of a list or a 1D array, the minimum element will be displayed.\n",
    "However, in the case of a 2D array the axis along which the minimum\n",
    "element is desired can also be mentioned. Here, axis=0 indicates col\n",
    "umns and axis=1 indicates rows.\n",
    "\n",
    "numpy.argmin This finds the position (index) of the minimum element\n",
    "\n",
    "numpy.argmax This finds the position of the maximum element\n",
    "\n",
    "numpy.median This finds the median of the elements of the argument\n",
    "\n",
    "numpy.percentile This finds the percentile of the elements of the argument. The percentile (25 etc. ) is the second argument.\n",
    "\n",
    "numpy.any This finds if any element of the given argument is there\n",
    "\n",
    "numpy.all This finds if all the arguments of the given argument are\n",
    "there\n"
   ]
  },
  {
   "cell_type": "code",
   "execution_count": 20,
   "metadata": {},
   "outputs": [
    {
     "data": {
      "text/plain": [
       "array([57.15379139, 47.05405945, 70.36823047, 13.29987564, 58.28424318,\n",
       "       43.84256171, 10.49668146, 65.34143556, 68.68213799, 28.36875264,\n",
       "       32.85659331, 97.87769436, 78.89937997, 23.12596712,  9.77244637,\n",
       "       46.78369243, 13.88150844, 46.11188926, 32.71533729, 47.43603552,\n",
       "       29.64820531, 66.44085845, 14.0750414 , 98.16425784, 26.60566641,\n",
       "        3.71940338, 99.87903662, 65.37801308, 18.45804517, 91.82593645,\n",
       "       10.20431794, 24.99604334, 47.70994958, 82.19722444, 92.80277207,\n",
       "       68.35114702, 78.82639947, 86.55181126, 41.32859298,  0.54959536,\n",
       "        2.72248842, 67.35397037, 93.70435917, 35.53635912, 42.22068091,\n",
       "       24.93170133, 14.57912929, 63.9066458 , 53.30688477, 87.18126168])"
      ]
     },
     "execution_count": 20,
     "metadata": {},
     "output_type": "execute_result"
    }
   ],
   "source": [
    "Values1 = 100*(np.random.random(50))\n",
    "Values1\n"
   ]
  },
  {
   "cell_type": "code",
   "execution_count": 27,
   "metadata": {},
   "outputs": [
    {
     "data": {
      "text/plain": [
       "39"
      ]
     },
     "execution_count": 27,
     "metadata": {},
     "output_type": "execute_result"
    }
   ],
   "source": [
    "Max = np.max(Values1)\n",
    "Max\n",
    "Max_Index = np.argmax(Values1)\n",
    "Max_Index\n",
    "Min = np.min(Values1)\n",
    "Min\n",
    "Min_Index = np.argmin(Values1)\n",
    "Min_Index\n"
   ]
  },
  {
   "cell_type": "code",
   "execution_count": 30,
   "metadata": {},
   "outputs": [
    {
     "name": "stdout",
     "output_type": "stream",
     "text": [
      "Max\t: 99.87903661745787 \n",
      "Index\t: 26 \n",
      "Min\t: 0.549595360615307 \n",
      "Index\t: 39 \n",
      "Average\t: 48.510162239499635 \n",
      "StadDeviation\t: 29.17980383631219 \n",
      "Variance\t: 851.4609519256595 \n",
      "Median  \t: 46.91887593906027 \n",
      "Percentile 25\t: 24.947786828295847 \n",
      "Percentile  75\t: 68.59939024522559\n"
     ]
    }
   ],
   "source": [
    "Sum=np.sum(Values1)\n",
    "Sum\n",
    "Prod=np.prod(Values1)\n",
    "Prod\n",
    "Mean=np.mean(Values1)\n",
    "Mean\n",
    "SD=np.std(Values1)\n",
    "SD\n",
    "Variance=np.var(Values1)\n",
    "Variance\n",
    "Med=np.median(Values1)\n",
    "Med\n",
    "Per25=np.percentile(Values1,25)\n",
    "Per25\n",
    "Per75=np.percentile(Values1,75)\n",
    "Per75\n",
    "print(\"Max\\t:\",Max,\"\\nIndex\\t:\",Max_Index,\"\\nMin\\t:\",Min, \"\\nIndex\\t:\",Min_Index,\"\\nAverage\\t:\",Mean,\"\\nStadDeviation\\t:\",SD,\"\\nVariance\\t:\",Variance,\"\\nMedian  \\t:\",Med,\"\\nPercentile 25\\t:\",Per25,\"\\nPercentile  75\\t:\",Per75)\n"
   ]
  },
  {
   "cell_type": "code",
   "execution_count": 36,
   "metadata": {},
   "outputs": [
    {
     "data": {
      "image/png": "[encoded data removed]",
      "text/plain": [
       "<Figure size 640x480 with 1 Axes>"
      ]
     },
     "metadata": {},
     "output_type": "display_data"
    }
   ],
   "source": [
    "import matplotlib.pyplot as plt\n",
    "plt.hist(Values1) \n",
    "plt.title('Values Generated') \n",
    "plt.xlabel('Values') \n",
    "plt.ylabel('Number') \n",
    "plt.show()\n"
   ]
  },
  {
   "cell_type": "markdown",
   "metadata": {},
   "source": [
    "BROADCASTING\n"
   ]
  },
  {
   "cell_type": "code",
   "execution_count": 38,
   "metadata": {},
   "outputs": [
    {
     "name": "stdout",
     "output_type": "stream",
     "text": [
      "Sum\t: [ 8 10 12] \n",
      "Difference\t: [-6 -6 -6] \n",
      "Product\t: [ 7 16 27] \n",
      "Div\t: [0.14285714 0.25       0.33333333]\n"
     ]
    }
   ],
   "source": [
    "import numpy as np \n",
    "A=np.array([1,2,3])\n",
    "B=np.array([7,8,9]) \n",
    "Sum=A+B\n",
    "Diff=A-B \n",
    "Prod=A*B \n",
    "Div=A/B\n",
    "print(\"Sum\\t:\",Sum,\"\\nDifference\\t:\",Diff,\"\\nProduct\\t:\",Prod,\"\\nDiv\\t:\",Div)\n"
   ]
  },
  {
   "cell_type": "markdown",
   "metadata": {},
   "source": [
    "STRUCTURED ARRAYS\n"
   ]
  },
  {
   "cell_type": "code",
   "execution_count": 39,
   "metadata": {},
   "outputs": [],
   "source": [
    "name=['Harsh','Naved','Aman','Lovish'] \n",
    "age=[100,70,24,18] \n",
    "salary=[75500.00,65500.00,55500.00,45500.00]\n"
   ]
  },
  {
   "cell_type": "markdown",
   "metadata": {},
   "source": [
    "This is followed by associating the attributes with the above arrays.\n"
   ]
  },
  {
   "cell_type": "code",
   "execution_count": 46,
   "metadata": {},
   "outputs": [
    {
     "name": "stdout",
     "output_type": "stream",
     "text": [
      "[('', 0, 0.) ('', 0, 0.) ('', 0, 0.) ('', 0, 0.)]\n",
      "[('Harsh', 100, 75500.) ('Naved',  70, 65500.) ('Aman',  24, 55500.)\n",
      " ('Lovish',  18, 45500.)]\n"
     ]
    }
   ],
   "source": [
    "data=np.zeros(4,dtype={'names':('name','age','salary'), 'formats':('U10','i4','f8')})\n",
    "print(data)\n",
    "data['name']=name \n",
    "data['age']=age \n",
    "data['salary']=salary \n",
    "\n",
    "print(data)\n"
   ]
  }
 ],
 "metadata": {
  "kernelspec": {
   "display_name": "Python 3",
   "language": "python",
   "name": "python3"
  },
  "language_info": {
   "codemirror_mode": {
    "name": "ipython",
    "version": 3
   },
   "file_extension": ".py",
   "mimetype": "text/x-python",
   "name": "python",
   "nbconvert_exporter": "python",
   "pygments_lexer": "ipython3",
   "version": "3.11.4"
  }
 },
 "nbformat": 4,
 "nbformat_minor": 2
}
